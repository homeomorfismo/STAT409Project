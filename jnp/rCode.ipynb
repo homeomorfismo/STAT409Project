{
 "cells": [
  {
   "cell_type": "code",
   "execution_count": 1,
   "id": "b71c5ba2-3c36-4f4a-92e0-a93e3e939cac",
   "metadata": {},
   "outputs": [],
   "source": [
    "organ <- read.csv(\"Organ.csv\")"
   ]
  },
  {
   "cell_type": "code",
   "execution_count": 2,
   "id": "31c63eb4-ccf9-42e0-8cad-3a7c7ff784b1",
   "metadata": {},
   "outputs": [
    {
     "data": {
      "text/plain": [
       "   isBourdon        flueDepth           frequency      cutUpHeight     \n",
       " Min.   :0.0000   Min.   :0.0003500   Min.   : 98.0   Min.   :0.01000  \n",
       " 1st Qu.:0.0000   1st Qu.:0.0008750   1st Qu.:103.8   1st Qu.:0.01200  \n",
       " Median :0.0000   Median :0.0010600   Median :116.5   Median :0.01400  \n",
       " Mean   :0.3636   Mean   :0.0009983   Mean   :127.0   Mean   :0.01382  \n",
       " 3rd Qu.:1.0000   3rd Qu.:0.0012000   3rd Qu.:146.8   3rd Qu.:0.01570  \n",
       " Max.   :1.0000   Max.   :0.0013500   Max.   :196.0   Max.   :0.01700  \n",
       "  diameterToe     acousticIntensity    partial1        partial2    \n",
       " Min.   :0.0070   Min.   : 61.50    Min.   : 0.00   Min.   : 0.00  \n",
       " 1st Qu.:0.0070   1st Qu.: 65.60    1st Qu.:70.00   1st Qu.: 5.00  \n",
       " Median :0.0080   Median : 71.00    Median :99.00   Median :67.00  \n",
       " Mean   :0.2197   Mean   : 73.32    Mean   :81.39   Mean   :54.03  \n",
       " 3rd Qu.:0.0085   3rd Qu.: 79.00    3rd Qu.:99.00   3rd Qu.:97.00  \n",
       " Max.   :7.0000   Max.   :111.00    Max.   :99.00   Max.   :99.00  \n",
       "    partial3        partial4        partial5        partial6    \n",
       " Min.   : 0.00   Min.   : 0.00   Min.   : 0.00   Min.   : 0.00  \n",
       " 1st Qu.:63.00   1st Qu.: 0.00   1st Qu.:13.00   1st Qu.: 0.00  \n",
       " Median :78.00   Median :18.00   Median :28.00   Median : 6.00  \n",
       " Mean   :70.48   Mean   :25.27   Mean   :27.06   Mean   :11.58  \n",
       " 3rd Qu.:87.00   3rd Qu.:47.00   3rd Qu.:39.00   3rd Qu.:21.00  \n",
       " Max.   :99.00   Max.   :81.00   Max.   :69.00   Max.   :45.00  \n",
       "    partial7         partial8     \n",
       " Min.   : 0.000   Min.   : 0.000  \n",
       " 1st Qu.: 0.000   1st Qu.: 0.000  \n",
       " Median : 0.000   Median : 0.000  \n",
       " Mean   : 5.152   Mean   : 5.576  \n",
       " 3rd Qu.: 5.000   3rd Qu.: 9.000  \n",
       " Max.   :50.000   Max.   :32.000  "
      ]
     },
     "metadata": {},
     "output_type": "display_data"
    }
   ],
   "source": [
    "summary(organ)"
   ]
  },
  {
   "cell_type": "code",
   "execution_count": 3,
   "id": "d3298b56-c28f-4132-b9eb-f30da6471701",
   "metadata": {},
   "outputs": [],
   "source": [
    "attach(organ)"
   ]
  },
  {
   "cell_type": "code",
   "execution_count": 4,
   "id": "26a204d3-c5e9-4154-a868-5a25cdf4c7ef",
   "metadata": {},
   "outputs": [
    {
     "data": {
      "text/html": [
       "<strong>pdf:</strong> 2"
      ],
      "text/latex": [
       "\\textbf{pdf:} 2"
      ],
      "text/markdown": [
       "**pdf:** 2"
      ],
      "text/plain": [
       "pdf \n",
       "  2 "
      ]
     },
     "metadata": {},
     "output_type": "display_data"
    }
   ],
   "source": [
    "png(\"larger_plot.png\", width = 1200, height = 800)\n",
    "plot(organ)\n",
    "dev.off()"
   ]
  },
  {
   "cell_type": "code",
   "execution_count": 5,
   "id": "70131450-47eb-4681-af51-3ec1f711c800",
   "metadata": {},
   "outputs": [
    {
     "name": "stdout",
     "output_type": "stream",
     "text": [
      "'data.frame':\t33 obs. of  14 variables:\n",
      " $ isBourdon        : int  0 0 0 0 0 0 0 0 0 0 ...\n",
      " $ flueDepth        : num  0.00035 0.00035 0.00106 0.00106 0.0006 0.0011 0.0011 0.0011 0.0011 0.0011 ...\n",
      " $ frequency        : num  196 196 147 139 175 ...\n",
      " $ cutUpHeight      : num  0.0105 0.0105 0.012 0.012 0.01 0.01 0.017 0.017 0.017 0.017 ...\n",
      " $ diameterToe      : num  0.007 0.0085 0.007 0.0085 0.0072 0.011 0.007 0.008 0.009 0.01 ...\n",
      " $ acousticIntensity: num  73 90 65 86 87 111 66 68 79 84 ...\n",
      " $ partial1         : num  99 70 91 11 44 34 95 99 32 34 ...\n",
      " $ partial2         : num  61 99 43 0 0 99 99 97 99 99 ...\n",
      " $ partial3         : num  87 73 99 99 99 17 55 97 21 42 ...\n",
      " $ partial4         : num  37 18 52 3 13 11 42 81 29 0 ...\n",
      " $ partial5         : num  44 13 69 0 52 59 40 64 0 0 ...\n",
      " $ partial6         : num  0 0 40 0 33 28 21 45 6 23 ...\n",
      " $ partial7         : num  5 5 50 0 0 0 17 30 9 11 ...\n",
      " $ partial8         : num  0 0 19 0 25 32 0 12 0 9 ...\n"
     ]
    }
   ],
   "source": [
    "str(organ)"
   ]
  },
  {
   "cell_type": "code",
   "execution_count": 6,
   "id": "21619360-d76d-4d96-a2c0-924a5333a753",
   "metadata": {},
   "outputs": [],
   "source": [
    "organ$Area.toe <- pi * ((organ$diameterToe/2)^2)"
   ]
  },
  {
   "cell_type": "code",
   "execution_count": 7,
   "id": "03eef582-b824-4762-baa0-b57786af51a4",
   "metadata": {},
   "outputs": [
    {
     "name": "stdout",
     "output_type": "stream",
     "text": [
      "'data.frame':\t33 obs. of  15 variables:\n",
      " $ isBourdon        : int  0 0 0 0 0 0 0 0 0 0 ...\n",
      " $ flueDepth        : num  0.00035 0.00035 0.00106 0.00106 0.0006 0.0011 0.0011 0.0011 0.0011 0.0011 ...\n",
      " $ frequency        : num  196 196 147 139 175 ...\n",
      " $ cutUpHeight      : num  0.0105 0.0105 0.012 0.012 0.01 0.01 0.017 0.017 0.017 0.017 ...\n",
      " $ diameterToe      : num  0.007 0.0085 0.007 0.0085 0.0072 0.011 0.007 0.008 0.009 0.01 ...\n",
      " $ acousticIntensity: num  73 90 65 86 87 111 66 68 79 84 ...\n",
      " $ partial1         : num  99 70 91 11 44 34 95 99 32 34 ...\n",
      " $ partial2         : num  61 99 43 0 0 99 99 97 99 99 ...\n",
      " $ partial3         : num  87 73 99 99 99 17 55 97 21 42 ...\n",
      " $ partial4         : num  37 18 52 3 13 11 42 81 29 0 ...\n",
      " $ partial5         : num  44 13 69 0 52 59 40 64 0 0 ...\n",
      " $ partial6         : num  0 0 40 0 33 28 21 45 6 23 ...\n",
      " $ partial7         : num  5 5 50 0 0 0 17 30 9 11 ...\n",
      " $ partial8         : num  0 0 19 0 25 32 0 12 0 9 ...\n",
      " $ Area.toe         : num  3.85e-05 5.67e-05 3.85e-05 5.67e-05 4.07e-05 ...\n"
     ]
    }
   ],
   "source": [
    "str(organ)"
   ]
  },
  {
   "cell_type": "code",
   "execution_count": 8,
   "id": "8bb33f55-0ea8-4486-a63f-364df72bb47f",
   "metadata": {},
   "outputs": [
    {
     "data": {
      "image/png": "[encoded data removed]",
      "text/plain": [
       "plot without title"
      ]
     },
     "metadata": {
      "image/png": {
       "height": 420,
       "width": 420
      }
     },
     "output_type": "display_data"
    }
   ],
   "source": [
    "plot(organ)"
   ]
  },
  {
   "cell_type": "code",
   "execution_count": 9,
   "id": "6947bfef-1dde-47f8-ae4a-eeb5ae144a7c",
   "metadata": {},
   "outputs": [],
   "source": [
    "organ$Ising <- sqrt((((0.77 * 2) * organ$flueDepth)/(1.185 * (organ$cutUpHeight)^3))/organ$frequency)"
   ]
  },
  {
   "cell_type": "code",
   "execution_count": 10,
   "id": "a162208f-aebb-4a0f-814c-da510c441696",
   "metadata": {},
   "outputs": [
    {
     "name": "stdout",
     "output_type": "stream",
     "text": [
      "'data.frame':\t33 obs. of  16 variables:\n",
      " $ isBourdon        : int  0 0 0 0 0 0 0 0 0 0 ...\n",
      " $ flueDepth        : num  0.00035 0.00035 0.00106 0.00106 0.0006 0.0011 0.0011 0.0011 0.0011 0.0011 ...\n",
      " $ frequency        : num  196 196 147 139 175 ...\n",
      " $ cutUpHeight      : num  0.0105 0.0105 0.012 0.012 0.01 0.01 0.017 0.017 0.017 0.017 ...\n",
      " $ diameterToe      : num  0.007 0.0085 0.007 0.0085 0.0072 0.011 0.007 0.008 0.009 0.01 ...\n",
      " $ acousticIntensity: num  73 90 65 86 87 111 66 68 79 84 ...\n",
      " $ partial1         : num  99 70 91 11 44 34 95 99 32 34 ...\n",
      " $ partial2         : num  61 99 43 0 0 99 99 97 99 99 ...\n",
      " $ partial3         : num  87 73 99 99 99 17 55 97 21 42 ...\n",
      " $ partial4         : num  37 18 52 3 13 11 42 81 29 0 ...\n",
      " $ partial5         : num  44 13 69 0 52 59 40 64 0 0 ...\n",
      " $ partial6         : num  0 0 40 0 33 28 21 45 6 23 ...\n",
      " $ partial7         : num  5 5 50 0 0 0 17 30 9 11 ...\n",
      " $ partial8         : num  0 0 19 0 25 32 0 12 0 9 ...\n",
      " $ Area.toe         : num  3.85e-05 5.67e-05 3.85e-05 5.67e-05 4.07e-05 ...\n",
      " $ Ising            : num  1.42 1.42 2.33 2.4 2.11 ...\n"
     ]
    }
   ],
   "source": [
    "str(organ)"
   ]
  },
  {
   "cell_type": "code",
   "execution_count": 11,
   "id": "c283ad86-82fb-4a72-a09f-1ca4b5bcb48a",
   "metadata": {},
   "outputs": [
    {
     "name": "stderr",
     "output_type": "stream",
     "text": [
      "Warning message:\n",
      "\"package 'tidyverse' was built under R version 4.4.2\"\n",
      "Warning message:\n",
      "\"package 'ggplot2' was built under R version 4.4.2\"\n",
      "Warning message:\n",
      "\"package 'tidyr' was built under R version 4.4.2\"\n",
      "Warning message:\n",
      "\"package 'readr' was built under R version 4.4.2\"\n",
      "Warning message:\n",
      "\"package 'dplyr' was built under R version 4.4.2\"\n",
      "Warning message:\n",
      "\"package 'forcats' was built under R version 4.4.2\"\n",
      "Warning message:\n",
      "\"package 'lubridate' was built under R version 4.4.2\"\n",
      "── \u001b[1mAttaching core tidyverse packages\u001b[22m ──────────────────────────────────────────────────────────────── tidyverse 2.0.0 ──\n",
      "\u001b[32m✔\u001b[39m \u001b[34mdplyr    \u001b[39m 1.1.4     \u001b[32m✔\u001b[39m \u001b[34mreadr    \u001b[39m 2.1.5\n",
      "\u001b[32m✔\u001b[39m \u001b[34mforcats  \u001b[39m 1.0.0     \u001b[32m✔\u001b[39m \u001b[34mstringr  \u001b[39m 1.5.1\n",
      "\u001b[32m✔\u001b[39m \u001b[34mggplot2  \u001b[39m 3.5.1     \u001b[32m✔\u001b[39m \u001b[34mtibble   \u001b[39m 3.2.1\n",
      "\u001b[32m✔\u001b[39m \u001b[34mlubridate\u001b[39m 1.9.3     \u001b[32m✔\u001b[39m \u001b[34mtidyr    \u001b[39m 1.3.1\n",
      "\u001b[32m✔\u001b[39m \u001b[34mpurrr    \u001b[39m 1.0.2     \n",
      "── \u001b[1mConflicts\u001b[22m ────────────────────────────────────────────────────────────────────────────────── tidyverse_conflicts() ──\n",
      "\u001b[31m✖\u001b[39m \u001b[34mdplyr\u001b[39m::\u001b[32mfilter()\u001b[39m masks \u001b[34mstats\u001b[39m::filter()\n",
      "\u001b[31m✖\u001b[39m \u001b[34mdplyr\u001b[39m::\u001b[32mlag()\u001b[39m    masks \u001b[34mstats\u001b[39m::lag()\n",
      "\u001b[36mℹ\u001b[39m Use the conflicted package (\u001b[3m\u001b[34m<http://conflicted.r-lib.org/>\u001b[39m\u001b[23m) to force all conflicts to become errors\n",
      "Loading required package: nlme\n",
      "\n",
      "\n",
      "Attaching package: 'nlme'\n",
      "\n",
      "\n",
      "The following object is masked from 'package:dplyr':\n",
      "\n",
      "    collapse\n",
      "\n",
      "\n",
      "This is mgcv 1.9-1. For overview type 'help(\"mgcv-package\")'.\n",
      "\n",
      "\u001b[1mRows: \u001b[22m\u001b[34m92\u001b[39m \u001b[1mColumns: \u001b[22m\u001b[34m14\u001b[39m\n",
      "\u001b[36m──\u001b[39m \u001b[1mColumn specification\u001b[22m \u001b[36m────────────────────────────────────────────────────────────────────────────────────────────────\u001b[39m\n",
      "\u001b[1mDelimiter:\u001b[22m \",\"\n",
      "\u001b[32mdbl\u001b[39m (14): isBourdon, flueDepth, frequency, cutUpHeight, diameterToe, acousti...\n",
      "\n",
      "\u001b[36mℹ\u001b[39m Use `spec()` to retrieve the full column specification for this data.\n",
      "\u001b[36mℹ\u001b[39m Specify the column types or set `show_col_types = FALSE` to quiet this message.\n",
      "\u001b[1m\u001b[22m`summarise()` has grouped output by 'ID', 'partial_num', 'isBourdon', 'cutUpHeight', 'diameterToe'. You can override\n",
      "using the `.groups` argument.\n",
      "ERROR while rich displaying an object: Error in loadNamespace(x): there is no package called 'viridisLite'\n",
      "\n",
      "Traceback:\n",
      "1. sapply(x, f, simplify = simplify)\n",
      "2. lapply(X = X, FUN = FUN, ...)\n",
      "3. FUN(X[[i]], ...)\n",
      "4. tryCatch(withCallingHandlers({\n",
      " .     if (!mime %in% names(repr::mime2repr)) \n",
      " .         stop(\"No repr_* for mimetype \", mime, \" in repr::mime2repr\")\n",
      " .     rpr <- repr::mime2repr[[mime]](obj)\n",
      " .     if (is.null(rpr)) \n",
      " .         return(NULL)\n",
      " .     prepare_content(is.raw(rpr), rpr)\n",
      " . }, error = error_handler), error = outer_handler)\n",
      "5. tryCatchList(expr, classes, parentenv, handlers)\n",
      "6. tryCatchOne(expr, names, parentenv, handlers[[1L]])\n",
      "7. doTryCatch(return(expr), name, parentenv, handler)\n",
      "8. withCallingHandlers({\n",
      " .     if (!mime %in% names(repr::mime2repr)) \n",
      " .         stop(\"No repr_* for mimetype \", mime, \" in repr::mime2repr\")\n",
      " .     rpr <- repr::mime2repr[[mime]](obj)\n",
      " .     if (is.null(rpr)) \n",
      " .         return(NULL)\n",
      " .     prepare_content(is.raw(rpr), rpr)\n",
      " . }, error = error_handler)\n",
      "9. repr::mime2repr[[mime]](obj)\n",
      "10. repr_text.default(obj)\n",
      "11. paste(capture.output(print(obj)), collapse = \"\\n\")\n",
      "12. capture.output(print(obj))\n",
      "13. withVisible(...elt(i))\n",
      "14. print(obj)\n",
      "15. print.ggplot(obj)\n",
      "16. ggplot_build(x)\n",
      "17. ggplot_build.ggplot(x)\n",
      "18. plot$guides$build(npscales, plot$layers, plot$labels, data)\n",
      "19. build(..., self = self)\n",
      "20. guides$train(scales, labels)\n",
      "21. train(..., self = self)\n",
      "22. Map(function(guide, param, scale, aes) {\n",
      "  .     guide$train(param, scale, aes, title = labels[[aes]])\n",
      "  . }, guide = self$guides, param = self$params, aes = self$aesthetics, \n",
      "  .     scale = scales)\n",
      "23. mapply(FUN = f, ..., SIMPLIFY = FALSE)\n",
      "24. (function (guide, param, scale, aes) \n",
      "  . {\n",
      "  .     guide$train(param, scale, aes, title = labels[[aes]])\n",
      "  . })(guide = dots[[1L]][[1L]], param = dots[[2L]][[1L]], aes = dots[[3L]][[1L]], \n",
      "  .     scale = dots[[4L]][[1L]])\n",
      "25. guide$train(param, scale, aes, title = labels[[aes]])\n",
      "26. train(..., self = self)\n",
      "27. inject(self$extract_key(scale, !!!params))\n",
      "28. self$extract_key(scale, title = structure(list(), class = \"waiver\"), \n",
      "  .     theme = NULL, direction = NULL, override.aes = structure(list(), names = character(0)), \n",
      "  .     nrow = NULL, ncol = NULL, reverse = FALSE, order = 0L, position = NULL, \n",
      "  .     name = \"legend\", hash = character(0), aesthetic = \"colour\")\n",
      "29. extract_key(...)\n",
      "30. scale$map(breaks)\n",
      "31. map(..., self = self)\n",
      "32. self$palette(n)\n",
      "33. palette(...)\n",
      "34. loadNamespace(x)\n",
      "35. withRestarts(stop(cond), retry_loadNamespace = function() NULL)\n",
      "36. withOneRestart(expr, restarts[[1L]])\n",
      "37. doWithOneRestart(return(expr), restart)\n"
     ]
    },
    {
     "data": {
      "text/plain": [
       "\n",
       "Family: gaussian \n",
       "Link function: identity \n",
       "\n",
       "Formula:\n",
       "partial_value ~ s(partial_num, k = 5)\n",
       "\n",
       "Parametric coefficients:\n",
       "            Estimate Std. Error t value Pr(>|t|)    \n",
       "(Intercept)  33.1453     0.4762    69.6   <2e-16 ***\n",
       "---\n",
       "Signif. codes:  0 '***' 0.001 '**' 0.01 '*' 0.05 '.' 0.1 ' ' 1\n",
       "\n",
       "Approximate significance of smooth terms:\n",
       "                 edf Ref.df    F p-value    \n",
       "s(partial_num) 3.954  3.954 1153  <2e-16 ***\n",
       "---\n",
       "Signif. codes:  0 '***' 0.001 '**' 0.01 '*' 0.05 '.' 0.1 ' ' 1\n",
       "\n",
       "R-sq.(adj) =  0.771   \n",
       "  Scale est. = 245.09    n = 736"
      ]
     },
     "metadata": {},
     "output_type": "display_data"
    },
    {
     "data": {
      "text/plain": [
       "Linear mixed-effects model fit by maximum likelihood\n",
       "  Data: strip.offset(mf) \n",
       "       AIC     BIC    logLik\n",
       "  6108.733 6136.34 -3048.366\n",
       "\n",
       "Random effects:\n",
       " Formula: ~Xr - 1 | g\n",
       " Structure: pdIdnot\n",
       "             Xr1      Xr2      Xr3\n",
       "StdDev: 108.2904 108.2904 108.2904\n",
       "\n",
       " Formula: ~1 | ID %in% g\n",
       "        (Intercept) Residual\n",
       "StdDev:    2.154678  15.6555\n",
       "\n",
       "Correlation Structure: AR(1)\n",
       " Formula: ~partial_num | g/ID \n",
       " Parameter estimate(s):\n",
       "       Phi \n",
       "-0.3482636 \n",
       "Fixed effects:  y ~ X - 1 \n",
       "                      Value Std.Error  DF  t-value p-value\n",
       "X(Intercept)       33.14531 0.4765313 643 69.55536  0.0000\n",
       "Xs(partial_num)Fx1 -2.64456 2.3621545 643 -1.11955  0.2633\n",
       " Correlation: \n",
       "                   X(Int)\n",
       "Xs(partial_num)Fx1 0     \n",
       "\n",
       "Standardized Within-Group Residuals:\n",
       "        Min          Q1         Med          Q3         Max \n",
       "-4.78216392 -0.34780892 -0.07509183  0.46279269  3.19993940 \n",
       "\n",
       "Number of Observations: 736\n",
       "Number of Groups: \n",
       "        g ID %in% g \n",
       "        1        92 "
      ]
     },
     "metadata": {},
     "output_type": "display_data"
    },
    {
     "name": "stdout",
     "output_type": "stream",
     "text": [
      "Level: g \n",
      "       Xr1      Xr2      Xr3\n",
      "1 101.7233 135.4024 -77.7942\n",
      "\n",
      "Level: ID %in% g \n",
      "      (Intercept)\n",
      "1/1   3.409315392\n",
      "1/2   1.989989260\n",
      "1/3   1.029200180\n",
      "1/4  -0.273730100\n",
      "1/5   0.544388913\n",
      "1/6   1.362507926\n",
      "1/7   0.190846688\n",
      "1/8   0.034536202\n",
      "1/9   1.089801588\n",
      "1/10  2.047796949\n",
      "1/11  0.899390057\n",
      "1/12  1.221851104\n",
      "1/13 -0.254830421\n",
      "1/14 -0.523510269\n",
      "1/15  0.105758162\n",
      "1/16  0.604990321\n",
      "1/17 -0.728240663\n",
      "1/18 -1.975150350\n",
      "1/19 -0.070232477\n",
      "1/20  1.606700656\n",
      "1/21 -0.926705174\n",
      "1/22  0.543608439\n",
      "1/23  1.475883911\n",
      "1/24  0.392885392\n",
      "1/25 -1.152450522\n",
      "1/26 -0.061625171\n",
      "1/27  0.847395955\n",
      "1/28 -2.584964776\n",
      "1/29 -2.955393435\n",
      "1/30  0.786794546\n",
      "1/31  0.798874016\n",
      "1/32  0.499667316\n",
      "1/33  0.051976963\n",
      "1/34 -1.070936189\n",
      "1/35 -0.908585969\n",
      "1/36 -0.535363590\n",
      "1/37  0.180780463\n",
      "1/38 -1.303954042\n",
      "1/39 -3.358916518\n",
      "1/40 -0.789622546\n",
      "1/41  1.073141302\n",
      "1/42 -1.490565232\n",
      "1/43 -1.045200284\n",
      "1/44 -0.450744143\n",
      "1/45  0.314331615\n",
      "1/46 -0.963307710\n",
      "1/47  0.005253719\n",
      "1/48  0.288598907\n",
      "1/49  0.514172380\n",
      "1/50 -0.139592784\n",
      "1/51 -0.263138107\n",
      "1/52 -0.517236801\n",
      "1/53 -0.137900483\n",
      "1/54 -0.155186819\n",
      "1/55 -0.369926022\n",
      "1/56 -0.392011108\n",
      "1/57  0.188753890\n",
      "1/58 -0.594249441\n",
      "1/59 -0.471510420\n",
      "1/60  0.727609136\n",
      "1/61  1.065353746\n",
      "1/62 -0.720508144\n",
      "1/63  0.051690122\n",
      "1/64 -0.465513033\n",
      "1/65  0.335513853\n",
      "1/66 -1.143324507\n",
      "1/67  1.049165538\n",
      "1/68  0.188716987\n",
      "1/69  1.211870684\n",
      "1/70  0.260983507\n",
      "1/71 -0.887368659\n",
      "1/72 -0.793841092\n",
      "1/73  1.408004916\n",
      "1/74 -0.357588661\n",
      "1/75  0.382434556\n",
      "1/76  0.386527858\n",
      "1/77 -0.535906966\n",
      "1/78 -1.020919989\n",
      "1/79  0.154047119\n",
      "1/80  1.375260073\n",
      "1/81  0.503045779\n",
      "1/82  0.711851095\n",
      "1/83 -0.298931561\n",
      "1/84 -0.364091721\n",
      "1/85 -0.122959528\n",
      "1/86 -0.279108368\n",
      "1/87 -1.058665732\n",
      "1/88  0.449904336\n",
      "1/89 -0.039176279\n",
      "1/90  0.252856320\n",
      "1/91  0.591118308\n",
      "1/92 -0.652460340\n"
     ]
    },
    {
     "data": {
      "image/png": "[encoded data removed]",
      "text/plain": [
       "plot without title"
      ]
     },
     "metadata": {
      "image/png": {
       "height": 420,
       "width": 420
      }
     },
     "output_type": "display_data"
    }
   ],
   "source": [
    "library(tidyverse)\n",
    "library(mgcv)\n",
    "library(nlme)\n",
    "\n",
    "# Read CSV file\n",
    "Organ2 <- read_csv(\"Organ2_final.csv\") %>% \n",
    "  mutate(ID = row_number()) %>%  \n",
    "  pivot_longer(cols = contains(\"Partial\"), \n",
    "               names_to = \"name_p\", \n",
    "               values_to = \"partial_value\") %>% \n",
    "  mutate(type = map_chr(name_p, ~ str_split(.x, pattern = \"Partial\")[[1]][1]),  \n",
    "         partial_num = as.numeric(map_chr(name_p, ~ str_split(.x, pattern = \"Partial\")[[1]][2])))  \n",
    "\n",
    "# Summarize data\n",
    "summaryData <- Organ2 %>% \n",
    "  select(ID, partial_num, isBourdon:acousticIntensity, partial_value) %>% \n",
    "  group_by(ID, partial_num, isBourdon, cutUpHeight, diameterToe, acousticIntensity) %>% \n",
    "  summarise(partial_value = mean(partial_value, na.rm = TRUE)) %>%  \n",
    "  mutate(ID = as.factor(ID)) %>%  \n",
    "  ungroup()\n",
    "\n",
    "# Plot results\n",
    "summaryData %>% \n",
    "  ggplot(aes(x = partial_num, y = partial_value, group = ID, color = ID)) +\n",
    "  geom_line() +\n",
    "  geom_point() +\n",
    "  scale_color_viridis_d()\n",
    "\n",
    "#--------------------------------------\n",
    "#-------- GAM Modeling\n",
    "#--------------------------------------\n",
    "mod1 <- gamm(partial_value ~ s(partial_num, k = 5),  \n",
    "             random = list(ID = ~1),  \n",
    "             data = summaryData,  \n",
    "             correlation = corAR1(form = ~ partial_num | ID))  \n",
    "\n",
    "# Model summaries\n",
    "summary(mod1$gam)\n",
    "summary(mod1$lme)\n",
    "\n",
    "# Plot results\n",
    "plot(mod1$gam)\n",
    "\n",
    "# Extract random effects\n",
    "refa <- ranef(mod1$lme)\n",
    "print(refa)\n"
   ]
  }
 ],
 "metadata": {
  "kernelspec": {
   "display_name": "R",
   "language": "R",
   "name": "ir"
  },
  "language_info": {
   "codemirror_mode": "r",
   "file_extension": ".r",
   "mimetype": "text/x-r-source",
   "name": "R",
   "pygments_lexer": "r",
   "version": "4.4.1"
  }
 },
 "nbformat": 4,
 "nbformat_minor": 5
}
